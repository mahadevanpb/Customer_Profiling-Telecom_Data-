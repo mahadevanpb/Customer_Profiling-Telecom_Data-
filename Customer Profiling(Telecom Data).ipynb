{
 "cells": [
  {
   "cell_type": "markdown",
   "id": "b6428354-3572-421b-994c-043c8ea96c69",
   "metadata": {},
   "source": [
    "# Customer Profiling \n",
    "\n",
    "### Purpose: <br>\n",
    "The purpose of this script is to profile customers based on their internet plan usage and free data bonus usage over a six month period. The profiling will help support revenue drive and marketing efforts of the company while providing a better understanding of customer behavior."
   ]
  },
  {
   "cell_type": "code",
   "execution_count": 2,
   "id": "39d60cc2-97de-410e-83ab-7f51fa23aefa",
   "metadata": {},
   "outputs": [],
   "source": [
    "import pandas as pd\n",
    "import datetime"
   ]
  },
  {
   "cell_type": "code",
   "execution_count": 8,
   "id": "6bfcdfd0-9260-4883-bd98-471a944e0646",
   "metadata": {},
   "outputs": [],
   "source": [
    "df = pd.read_excel('Telecoms Data.xlsx')"
   ]
  },
  {
   "cell_type": "code",
   "execution_count": 9,
   "id": "d4d88458-d456-4815-a7e0-09be112c6801",
   "metadata": {},
   "outputs": [
    {
     "name": "stdout",
     "output_type": "stream",
     "text": [
      "  Primary City  Account Number CUSTOMER_TYPE  Data Subscribed (GB)  \\\n",
      "0      Onitsha         1000001        Retail                125.66   \n",
      "1      Onitsha         1000001        Retail                250.29   \n",
      "2      Onitsha         1000001        Retail                323.42   \n",
      "3      Onitsha         1000001        Retail                361.53   \n",
      "4      Onitsha         1000001        Retail                364.62   \n",
      "\n",
      "   Data Bonus (GB)  Bonus Used         YM  \n",
      "0        56.688644    0.000000 2019-08-01  \n",
      "1       119.598595    0.000000 2019-10-01  \n",
      "2       100.723187  100.723187 2019-07-01  \n",
      "3       270.656311  270.656311 2019-11-01  \n",
      "4       110.301048  110.301048 2019-12-01  \n"
     ]
    }
   ],
   "source": [
    "print(df.head())"
   ]
  },
  {
   "cell_type": "code",
   "execution_count": 11,
   "id": "d32b2b92-5ef9-4d70-8ce5-babb69419882",
   "metadata": {},
   "outputs": [],
   "source": [
    "df['YM'] = df['YM'].astype(str)"
   ]
  },
  {
   "cell_type": "code",
   "execution_count": 12,
   "id": "19cdfa6d-4cf1-4144-9091-16820b9cfaf0",
   "metadata": {},
   "outputs": [
    {
     "name": "stdout",
     "output_type": "stream",
     "text": [
      "<class 'pandas.core.frame.DataFrame'>\n",
      "RangeIndex: 60168 entries, 0 to 60167\n",
      "Data columns (total 7 columns):\n",
      " #   Column                Non-Null Count  Dtype  \n",
      "---  ------                --------------  -----  \n",
      " 0   Primary City          60168 non-null  object \n",
      " 1   Account Number        60168 non-null  int64  \n",
      " 2   CUSTOMER_TYPE         60168 non-null  object \n",
      " 3   Data Subscribed (GB)  60168 non-null  float64\n",
      " 4   Data Bonus (GB)       60168 non-null  float64\n",
      " 5   Bonus Used            60168 non-null  float64\n",
      " 6   YM                    60168 non-null  object \n",
      "dtypes: float64(3), int64(1), object(3)\n",
      "memory usage: 3.2+ MB\n"
     ]
    }
   ],
   "source": [
    "df.info()"
   ]
  },
  {
   "cell_type": "markdown",
   "id": "9192b110-8bae-4299-8c7c-19ee3540905e",
   "metadata": {},
   "source": [
    "# Calculating Loyalty Score\n",
    "Counting months with data purchased for each customer <l>\n",
    "\n",
    "A customer has \"Purchased Data\" if \"Data Subscribed > 0\""
   ]
  },
  {
   "cell_type": "code",
   "execution_count": 17,
   "id": "60f76e61-512a-48d8-9c50-8b4bd5c86122",
   "metadata": {},
   "outputs": [],
   "source": [
    "loyalty_counts = df[df['Data Subscribed (GB)'] > 0].groupby('Account Number')['YM'].nunique().reset_index()\n",
    "loyalty_counts.rename(columns={'YM': 'months_with_purchase'}, inplace=True)"
   ]
  },
  {
   "cell_type": "code",
   "execution_count": 22,
   "id": "3d0da349-f05e-4e44-bb97-de041a072271",
   "metadata": {},
   "outputs": [],
   "source": [
    "#Defining a function to assign loyalty scores\n",
    "def assign_loyalty_score(months_with_purchase):\n",
    "    if months_with_purchase == 6:\n",
    "        return 20\n",
    "    elif months_with_purchase == 5:\n",
    "        return 15\n",
    "    elif months_with_purchase == 4:\n",
    "        return 10\n",
    "    elif months_with_purchase < 4:\n",
    "        return 5\n",
    "    else:\n",
    "        return 1\n"
   ]
  },
  {
   "cell_type": "code",
   "execution_count": 23,
   "id": "999987f3-08ec-4255-8135-586226fe9359",
   "metadata": {},
   "outputs": [],
   "source": [
    "loyalty_counts['Loyalty_Score'] = loyalty_counts['months_with_purchase'].apply(assign_loyalty_score)"
   ]
  },
  {
   "cell_type": "markdown",
   "id": "92c69f33-a218-493f-a286-a0d8cf732983",
   "metadata": {},
   "source": [
    "# Calculate usage score:\n",
    "\n",
    "Count months where bonus was not used for each customer<l>\n",
    "if 'Bonus_Used' == 0, this indicates that bonus wasnt used.\n"
   ]
  },
  {
   "cell_type": "code",
   "execution_count": 35,
   "id": "619bdc75-9968-4326-8a42-5ab637d8f313",
   "metadata": {},
   "outputs": [],
   "source": [
    "bonus_not_used_counts = df[df['Bonus Used'] == 0].groupby('Account Number')['YM'].nunique().reset_index()\n",
    "bonus_not_used_counts.rename(columns={'YM': 'months_bonus_not_used'}, inplace=True)"
   ]
  },
  {
   "cell_type": "code",
   "execution_count": 36,
   "id": "76ef869f-047c-441a-a31f-d469ca762e32",
   "metadata": {},
   "outputs": [],
   "source": [
    "#Get total unique months per customer\n",
    "total_months_per_customer = df.groupby('Account Number')['YM'].nunique().reset_index()\n",
    "total_months_per_customer.rename(columns={'YM': 'total_months'}, inplace= True)"
   ]
  },
  {
   "cell_type": "code",
   "execution_count": 38,
   "id": "cc8cee46-b1b6-4692-874a-f9a2d6e94cb6",
   "metadata": {},
   "outputs": [],
   "source": [
    "bonus_usage_data = pd.merge(total_months_per_customer, bonus_not_used_counts, on='Account Number', how='left').fillna(0)\n",
    "bonus_usage_data['months_bonus_not_used'] = bonus_usage_data['months_bonus_not_used'].astype(int)"
   ]
  },
  {
   "cell_type": "code",
   "execution_count": 39,
   "id": "b4be39f2-cef8-4122-b06f-6d4d335866e8",
   "metadata": {},
   "outputs": [],
   "source": [
    "#Defien function to assign bonus usage scores\n",
    "def assign_bonus_usage_score(months_bonus_not_used, total_months):\n",
    "    if months_bonus_not_used == total_months:\n",
    "        return 20\n",
    "    elif months_bonus_not_used == (total_months -1) and total_months == 6:\n",
    "        return 15\n",
    "    elif months_bonus_not_used == (total_months - 2) and total_months == 6:\n",
    "        return 10\n",
    "    elif months_bonus_not_used < (total_months - 2) and months_bonus_not_used > 0 and total_months == 6:\n",
    "        return 5\n",
    "    else:\n",
    "        return 1"
   ]
  },
  {
   "cell_type": "code",
   "execution_count": 44,
   "id": "a25e8abb-88c9-4527-b1e0-bdc9d621d77e",
   "metadata": {},
   "outputs": [],
   "source": [
    "bonus_usage_data['bonus_usage_score'] = bonus_usage_data.apply(\n",
    "    lambda row: assign_bonus_usage_score(row['months_bonus_not_used'], row['total_months']), axis=1\n",
    ")"
   ]
  },
  {
   "cell_type": "markdown",
   "id": "66be5f97-7b47-4ef4-b901-6b54bafae797",
   "metadata": {},
   "source": [
    "# Combine Scores and Calculate Final Percentage"
   ]
  },
  {
   "cell_type": "code",
   "execution_count": 48,
   "id": "f39fdef3-7d79-4eeb-a248-b50ce35283d6",
   "metadata": {},
   "outputs": [],
   "source": [
    "#Merge loyalty and bonus usage scores\n",
    "customer_scores = pd.merge(loyalty_counts[['Account Number', 'Loyalty_Score']],\n",
    "                           bonus_usage_data[['Account Number', 'bonus_usage_score']],\n",
    "                           on='Account Number',\n",
    "                           how='outer').fillna(0)"
   ]
  },
  {
   "cell_type": "code",
   "execution_count": 50,
   "id": "5ed34ff4-73ef-4070-8a7f-caf4e9b11fb9",
   "metadata": {},
   "outputs": [],
   "source": [
    "#Calculate Total Score\n",
    "customer_scores['Total_Score'] = customer_scores['Loyalty_Score'] + customer_scores['bonus_usage_score']\n",
    "\n",
    "#Max Score = 40\n",
    "MAX_SCORE = 40\n",
    "customer_scores['Final_Score_Percentage'] = (customer_scores['Total_Score'] / MAX_SCORE) * 100"
   ]
  },
  {
   "cell_type": "markdown",
   "id": "97542525-4a0d-49c5-90f4-5719ffd2164c",
   "metadata": {},
   "source": [
    "# Classify Customer into Tiers"
   ]
  },
  {
   "cell_type": "code",
   "execution_count": 55,
   "id": "7f426954-bbf1-403d-b3e3-5542ddbb22dc",
   "metadata": {},
   "outputs": [],
   "source": [
    "def customer_tier(score_percentage):\n",
    "    if score_percentage > 85:\n",
    "        return 'Tier 1 Priority Service' #[cite:19]\n",
    "    elif 75 <= score_percentage <=85:\n",
    "        return 'Tier 2 Priority Service' #[cite:20]\n",
    "    elif 60 < score_percentage < 75:\n",
    "        return 'Tier 3 Priority Service + Incentives' #[cite:21]\n",
    "    else:\n",
    "        return 'Tier 4 Priority Service + Incentives' #[cite:22]\n",
    "\n",
    "customer_scores['Customer_Tier'] = customer_scores['Final_Score_Percentage'].apply(customer_tier)"
   ]
  },
  {
   "cell_type": "markdown",
   "id": "6227cdad-e957-453e-942c-72e30b526d10",
   "metadata": {},
   "source": [
    "# Add Customer type(Corporate/Retail) to the final profiling"
   ]
  },
  {
   "cell_type": "code",
   "execution_count": 58,
   "id": "c15c4763-eec3-4643-ab5e-24949cc51639",
   "metadata": {},
   "outputs": [],
   "source": [
    "#get unique customer types for each account number \n",
    "customer_type_map = df[['Account Number', 'CUSTOMER_TYPE']].drop_duplicates()\n",
    "customer_profiling = pd.merge(customer_scores, customer_type_map, on='Account Number', how='left')"
   ]
  },
  {
   "cell_type": "markdown",
   "id": "b828f3aa-1b68-4e42-9009-245c3e86fd60",
   "metadata": {},
   "source": [
    "# Display Results"
   ]
  },
  {
   "cell_type": "code",
   "execution_count": 59,
   "id": "67df5ac5-8d9a-498b-b2b6-65001929726b",
   "metadata": {},
   "outputs": [
    {
     "name": "stdout",
     "output_type": "stream",
     "text": [
      "\n",
      " Customer Profiling Results:\n",
      "      Account Number  Loyalty_Score  bonus_usage_score  Total_Score  \\\n",
      "2784         1002785           20.0                 20         40.0   \n",
      "1335         1001336           20.0                 20         40.0   \n",
      "1805         1001806           20.0                 20         40.0   \n",
      "3638         1003639           20.0                 20         40.0   \n",
      "3830         1003831           20.0                 20         40.0   \n",
      "1995         1001996           20.0                 20         40.0   \n",
      "3887         1003888           20.0                 20         40.0   \n",
      "6808         1006809           20.0                 20         40.0   \n",
      "2106         1002107           20.0                 20         40.0   \n",
      "4106         1004107           20.0                 20         40.0   \n",
      "4130         1004131           20.0                 20         40.0   \n",
      "1083         1001084           20.0                 20         40.0   \n",
      "1722         1001723           20.0                 20         40.0   \n",
      "1955         1001956           20.0                 20         40.0   \n",
      "135          1000136           20.0                 20         40.0   \n",
      "1071         1001072           20.0                 20         40.0   \n",
      "1173         1001174           20.0                 20         40.0   \n",
      "2815         1002816           20.0                 20         40.0   \n",
      "2014         1002015           20.0                 20         40.0   \n",
      "2342         1002343           20.0                 20         40.0   \n",
      "\n",
      "      Final_Score_Percentage            Customer_Tier CUSTOMER_TYPE  \n",
      "2784                   100.0  Tier 1 Priority Service        Retail  \n",
      "1335                   100.0  Tier 1 Priority Service        Retail  \n",
      "1805                   100.0  Tier 1 Priority Service        Retail  \n",
      "3638                   100.0  Tier 1 Priority Service        Retail  \n",
      "3830                   100.0  Tier 1 Priority Service        Retail  \n",
      "1995                   100.0  Tier 1 Priority Service        Retail  \n",
      "3887                   100.0  Tier 1 Priority Service        Retail  \n",
      "6808                   100.0  Tier 1 Priority Service        Retail  \n",
      "2106                   100.0  Tier 1 Priority Service        Retail  \n",
      "4106                   100.0  Tier 1 Priority Service        Retail  \n",
      "4130                   100.0  Tier 1 Priority Service        Retail  \n",
      "1083                   100.0  Tier 1 Priority Service        Retail  \n",
      "1722                   100.0  Tier 1 Priority Service        Retail  \n",
      "1955                   100.0  Tier 1 Priority Service        Retail  \n",
      "135                    100.0  Tier 1 Priority Service        Retail  \n",
      "1071                   100.0  Tier 1 Priority Service        Retail  \n",
      "1173                   100.0  Tier 1 Priority Service        Retail  \n",
      "2815                   100.0  Tier 1 Priority Service        Retail  \n",
      "2014                   100.0  Tier 1 Priority Service        Retail  \n",
      "2342                   100.0  Tier 1 Priority Service        Retail  \n"
     ]
    }
   ],
   "source": [
    "print(\"\\n Customer Profiling Results:\")\n",
    "print(customer_profiling.sort_values(by='Final_Score_Percentage', ascending=False).head(20))"
   ]
  },
  {
   "cell_type": "code",
   "execution_count": 62,
   "id": "71faaea0-3f15-4da4-9dd5-8c7f7c9056bc",
   "metadata": {},
   "outputs": [
    {
     "name": "stdout",
     "output_type": "stream",
     "text": [
      "\n",
      " Distribution of Customers by Tier:\n",
      "Customer_Tier\n",
      "Tier 3 Priority Service + Incentives    5461\n",
      "Tier 4 Priority Service + Incentives    4162\n",
      "Tier 2 Priority Service                  219\n",
      "Tier 1 Priority Service                  105\n",
      "Name: count, dtype: int64\n"
     ]
    }
   ],
   "source": [
    "print(\"\\n Distribution of Customers by Tier:\")\n",
    "print(customer_profiling['Customer_Tier'].value_counts())"
   ]
  },
  {
   "cell_type": "code",
   "execution_count": 63,
   "id": "5d785659-f8c6-4174-b7ea-c33f8a9570ce",
   "metadata": {},
   "outputs": [
    {
     "name": "stdout",
     "output_type": "stream",
     "text": [
      "Saved as CSV\n"
     ]
    }
   ],
   "source": [
    "# SAVE AS CSV\n",
    "customer_profiling.to_csv('customer_profiling_results.csv', index=False)\n",
    "print(\"Saved as CSV\")"
   ]
  },
  {
   "cell_type": "code",
   "execution_count": null,
   "id": "3dac3c62-6c7f-4b30-903c-9b10346a68be",
   "metadata": {},
   "outputs": [],
   "source": []
  }
 ],
 "metadata": {
  "kernelspec": {
   "display_name": "Python [conda env:base] *",
   "language": "python",
   "name": "conda-base-py"
  },
  "language_info": {
   "codemirror_mode": {
    "name": "ipython",
    "version": 3
   },
   "file_extension": ".py",
   "mimetype": "text/x-python",
   "name": "python",
   "nbconvert_exporter": "python",
   "pygments_lexer": "ipython3",
   "version": "3.13.5"
  }
 },
 "nbformat": 4,
 "nbformat_minor": 5
}
